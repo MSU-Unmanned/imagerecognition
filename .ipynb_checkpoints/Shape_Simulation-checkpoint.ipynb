{
 "cells": [
  {
   "cell_type": "code",
   "execution_count": 42,
   "id": "36094182",
   "metadata": {},
   "outputs": [],
   "source": [
    "from shapely.geometry import Polygon, Point\n",
    "import shapely.wkt as wkt\n",
    "import random"
   ]
  },
  {
   "cell_type": "code",
   "execution_count": null,
   "id": "9ce6e779",
   "metadata": {},
   "outputs": [],
   "source": [
    "shapes = ['circle', 'semicircle', 'quarter_circle', 'triangle', 'square', 'rectangle', 'trapezoid', 'pentagon',\n",
    "          'hexagon', 'heptagon', 'octagon', 'star', 'cross']\n",
    "\n",
    "colors = ['white', 'black', 'gray', 'red', 'blue', 'green', 'yellow', 'purple', 'brown', 'orange']\n",
    "\n",
    "lett_nums = ['A', 'B', 'C', 'D', 'E', 'F', 'G', 'H', 'I', 'J', 'K', 'L', 'M',\n",
    "             'N', 'O', 'P', 'Q', 'R', 'S', 'T', 'U', 'V', 'W', 'X', 'Y', 'Z',\n",
    "             '1', '2', '3', '4', '5', '6', '7', '8', '9', '0']"
   ]
  },
  {
   "cell_type": "code",
   "execution_count": 66,
   "id": "43b97bea",
   "metadata": {},
   "outputs": [
    {
     "data": {
      "image/svg+xml": [
       "<svg xmlns=\"http://www.w3.org/2000/svg\" xmlns:xlink=\"http://www.w3.org/1999/xlink\" width=\"100.0\" height=\"100.0\" viewBox=\"-15.48 -3.48 12.96 8.96\" preserveAspectRatio=\"xMinYMin meet\"><g transform=\"matrix(1,0,0,-1,0,2.0000000000000004)\"><path fill-rule=\"evenodd\" fill=\"#66cc99\" stroke=\"#555555\" stroke-width=\"0.25920000000000004\" opacity=\"0.6\" d=\"M -3.0,-3.0 L -15.0,-3.0 L -15.0,5.0 L -3.0,5.0 L -3.0,-3.0 z\" /></g></svg>"
      ],
      "text/plain": [
       "<shapely.geometry.polygon.Polygon at 0x7f48d700bfd0>"
      ]
     },
     "execution_count": 66,
     "metadata": {},
     "output_type": "execute_result"
    }
   ],
   "source": [
    "start_x = random.randrange(-20,20)\n",
    "start_y = random.randrange(-20,20)\n",
    "width = random.randrange(-20,20)\n",
    "length = random.randrange(-20,20)\n",
    "\n",
    "corner_1 = (start_x, start_y)\n",
    "corner_2 = (start_x+width, start_y)\n",
    "corner_3 = (start_x+width, start_y+length)\n",
    "corner_4 = (start_x, start_y+length)\n",
    "\n",
    "color = random.choice(colors)\n",
    "\n",
    "square_1 = Polygon([corner_1, corner_2, corner_3, corner_4, corner_1])\n",
    "# square_1 = square_1.svg(fill_color=color)\n",
    "square_1\n",
    "\n"
   ]
  },
  {
   "cell_type": "code",
   "execution_count": 45,
   "id": "f1a117fc",
   "metadata": {},
   "outputs": [
    {
     "data": {
      "image/svg+xml": [
       "<svg xmlns=\"http://www.w3.org/2000/svg\" xmlns:xlink=\"http://www.w3.org/1999/xlink\" width=\"100.0\" height=\"100.0\" viewBox=\"-1.16 -1.16 4.32 4.32\" preserveAspectRatio=\"xMinYMin meet\"><g transform=\"matrix(1,0,0,-1,0,2.0)\"><path fill-rule=\"evenodd\" fill=\"#66cc99\" stroke=\"#555555\" stroke-width=\"0.0864\" opacity=\"0.6\" d=\"M 3.0,1.0 L 2.990369453344394,0.803965719340879 L 2.961570560806461,0.6098193559677438 L 2.913880671464418,0.4194306454910758 L 2.847759065022574,0.2346331352698212 L 2.7638425286967108,0.057206526348005604 L 2.662939224605091,-0.11114046603920347 L 2.5460209067254747,-0.26878656832728987 L 2.4142135623730963,-0.4142135623730938 L 2.2687865683272923,-0.5460209067254727 L 2.111140466039206,-0.6629392246050894 L 1.9427934736519972,-0.763842528696709 L 1.7653668647301817,-0.8477590650225726 L 1.5805693545089272,-0.913880671464417 L 1.3901806440322593,-0.9615705608064604 L 1.1960342806591242,-0.9903694533443934 L 1.0000000000000033,-1.0 L 0.8039657193408822,-0.9903694533443941 L 0.6098193559677471,-0.9615705608064615 L 0.419430645491079,-0.9138806714644188 L 0.23463313526982432,-0.847759065022575 L 0.0572065263480086,-0.7638425286967121 L -0.11114046603920102,-0.6629392246050927 L -0.2687865683272872,-0.5460209067254771 L -0.4142135623730918,-0.41421356237309825 L -0.5460209067254707,-0.2687865683272952 L -0.6629392246050876,-0.11114046603920857 L -0.7638425286967074,0.05720652634799961 L -0.8477590650225715,0.23463313526981533 L -0.9138806714644159,0.41943064549106934 L -0.9615705608064598,0.6098193559677376 L -0.9903694533443932,0.8039657193408721 L -1.0,0.9999999999999936 L -0.9903694533443943,1.196034280659115 L -0.9615705608064622,1.3901806440322497 L -0.9138806714644196,1.5805693545089183 L -0.8477590650225764,1.7653668647301726 L -0.7638425286967134,1.942793473651989 L -0.6629392246050949,2.111140466039198 L -0.5460209067254786,2.268786568327285 L -0.4142135623731009,2.414213562373089 L -0.2687865683272972,2.546020906725469 L -0.11114046603921168,2.6629392246050854 L 0.05720652634799639,2.7638425286967054 L 0.23463313526981278,2.8477590650225704 L 0.4194306454910667,2.9138806714644154 L 0.609819355967734,2.961570560806459 L 0.8039657193408685,2.9903694533443925 L 0.9999999999999908,3.0 L 1.1960342806591113,2.9903694533443947 L 1.3901806440322462,2.9615705608064626 L 1.5805693545089157,2.9138806714644208 L 1.7653668647301701,2.8477590650225775 L 1.9427934736519856,2.763842528696715 L 2.1111404660391946,2.662939224605097 L 2.268786568327283,2.5460209067254804 L 2.414213562373087,2.414213562373103 L 2.5460209067254667,2.2687865683273003 L 2.6629392246050836,2.111140466039215 L 2.7638425286967045,1.9427934736520052 L 2.8477590650225686,1.7653668647301908 L 2.913880671464414,1.580569354508937 L 2.961570560806458,1.3901806440322697 L 2.9903694533443925,1.1960342806591333 L 3.0,1.0 z\" /></g></svg>"
      ],
      "text/plain": [
       "<shapely.geometry.polygon.Polygon at 0x7f48d76ddf40>"
      ]
     },
     "execution_count": 45,
     "metadata": {},
     "output_type": "execute_result"
    }
   ],
   "source": [
    "point_1 = Point([1,1])\n",
    "point_1.buffer(2)"
   ]
  },
  {
   "cell_type": "code",
   "execution_count": 21,
   "id": "05fdd247",
   "metadata": {},
   "outputs": [
    {
     "name": "stdout",
     "output_type": "stream",
     "text": [
      "white red\n"
     ]
    }
   ],
   "source": [
    "print(random.choice(colors), random.choice(colors))"
   ]
  },
  {
   "cell_type": "code",
   "execution_count": null,
   "id": "0b0bebc8",
   "metadata": {},
   "outputs": [],
   "source": []
  },
  {
   "cell_type": "code",
   "execution_count": null,
   "id": "9026810e",
   "metadata": {},
   "outputs": [],
   "source": []
  },
  {
   "cell_type": "code",
   "execution_count": null,
   "id": "ce4047f7",
   "metadata": {},
   "outputs": [],
   "source": []
  },
  {
   "cell_type": "code",
   "execution_count": null,
   "id": "0605c89e",
   "metadata": {},
   "outputs": [],
   "source": []
  },
  {
   "cell_type": "code",
   "execution_count": null,
   "id": "7eb5f63e",
   "metadata": {},
   "outputs": [],
   "source": []
  },
  {
   "cell_type": "code",
   "execution_count": null,
   "id": "83fe7e9b",
   "metadata": {},
   "outputs": [],
   "source": []
  },
  {
   "cell_type": "code",
   "execution_count": null,
   "id": "e2fc7dc2",
   "metadata": {},
   "outputs": [],
   "source": []
  }
 ],
 "metadata": {
  "kernelspec": {
   "display_name": "Python 3",
   "language": "python",
   "name": "python3"
  },
  "language_info": {
   "codemirror_mode": {
    "name": "ipython",
    "version": 3
   },
   "file_extension": ".py",
   "mimetype": "text/x-python",
   "name": "python",
   "nbconvert_exporter": "python",
   "pygments_lexer": "ipython3",
   "version": "3.8.8"
  }
 },
 "nbformat": 4,
 "nbformat_minor": 5
}
