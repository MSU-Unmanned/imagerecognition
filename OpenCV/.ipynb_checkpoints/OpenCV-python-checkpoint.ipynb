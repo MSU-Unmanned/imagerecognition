{
 "cells": [
  {
   "cell_type": "code",
   "execution_count": 1,
   "id": "6a5775de",
   "metadata": {},
   "outputs": [
    {
     "name": "stdout",
     "output_type": "stream",
     "text": [
      "Defaulting to user installation because normal site-packages is not writeable\n",
      "Requirement already satisfied: opencv-python in /home/jansena4/.local/lib/python3.8/site-packages (4.6.0.66)\n",
      "Requirement already satisfied: numpy>=1.14.5 in /home/jansena4/.local/lib/python3.8/site-packages (from opencv-python) (1.23.3)\n"
     ]
    }
   ],
   "source": [
    "!pip install opencv-python"
   ]
  },
  {
   "cell_type": "code",
   "execution_count": 2,
   "id": "36ed0794",
   "metadata": {},
   "outputs": [
    {
     "ename": "error",
     "evalue": "OpenCV(4.6.0) /io/opencv/modules/imgproc/src/color.cpp:182: error: (-215:Assertion failed) !_src.empty() in function 'cvtColor'\n",
     "output_type": "error",
     "traceback": [
      "\u001b[0;31m---------------------------------------------------------------------------\u001b[0m",
      "\u001b[0;31merror\u001b[0m                                     Traceback (most recent call last)",
      "\u001b[0;32m<ipython-input-2-c519f9e960c9>\u001b[0m in \u001b[0;36m<module>\u001b[0;34m\u001b[0m\n\u001b[1;32m     14\u001b[0m     \u001b[0;31m#img = cv2.imread('frame', frame)\u001b[0m\u001b[0;34m\u001b[0m\u001b[0;34m\u001b[0m\u001b[0;34m\u001b[0m\u001b[0m\n\u001b[1;32m     15\u001b[0m     \u001b[0;31m# converting image into grayscale image\u001b[0m\u001b[0;34m\u001b[0m\u001b[0;34m\u001b[0m\u001b[0;34m\u001b[0m\u001b[0m\n\u001b[0;32m---> 16\u001b[0;31m     \u001b[0mgray\u001b[0m \u001b[0;34m=\u001b[0m \u001b[0mcv2\u001b[0m\u001b[0;34m.\u001b[0m\u001b[0mcvtColor\u001b[0m\u001b[0;34m(\u001b[0m\u001b[0mimg\u001b[0m\u001b[0;34m,\u001b[0m \u001b[0mcv2\u001b[0m\u001b[0;34m.\u001b[0m\u001b[0mCOLOR_BGR2GRAY\u001b[0m\u001b[0;34m)\u001b[0m\u001b[0;34m\u001b[0m\u001b[0;34m\u001b[0m\u001b[0m\n\u001b[0m\u001b[1;32m     17\u001b[0m \u001b[0;34m\u001b[0m\u001b[0m\n\u001b[1;32m     18\u001b[0m \u001b[0;34m\u001b[0m\u001b[0m\n",
      "\u001b[0;31merror\u001b[0m: OpenCV(4.6.0) /io/opencv/modules/imgproc/src/color.cpp:182: error: (-215:Assertion failed) !_src.empty() in function 'cvtColor'\n"
     ]
    }
   ],
   "source": [
    "import cv2\n",
    "import numpy as np\n",
    "from matplotlib import pyplot as plt\n",
    "from ipywidgets import interact\n",
    "  \n",
    "# define a video capture object\n",
    "vid = cv2.VideoCapture(0)\n",
    "\n",
    "while(True):\n",
    "\n",
    "    ret, img = vid.read()\n",
    "\n",
    "    # reading image\n",
    "    #img = cv2.imread('frame', frame)\n",
    "    # converting image into grayscale image\n",
    "    gray = cv2.cvtColor(img, cv2.COLOR_BGR2GRAY) #NEEDS A CAMERA CONNECTED, WON'T RUN ON JUPYTERHUB\n",
    "    \n",
    "\n",
    "    \n",
    "    # setting threshold of gray image\n",
    "\n",
    "    _, threshold = cv2.threshold(gray, 127, 255, cv2.THRESH_BINARY)\n",
    "    \n",
    "    # using a findContours() function\n",
    "    contours, _ = cv2.findContours(\n",
    "        threshold, cv2.RETR_TREE, cv2.CHAIN_APPROX_SIMPLE)\n",
    "    \n",
    "    i = 0\n",
    "    \n",
    "    # list for storing names of shapes\n",
    "    for contour in contours:\n",
    "    \n",
    "        # here we are ignoring first counter because \n",
    "        # findcontour function detects whole image as shape\n",
    "        if i == 0:\n",
    "            i = 1\n",
    "            continue\n",
    "    \n",
    "        # cv2.approxPloyDP() function to approximate the shape\n",
    "        approx = cv2.approxPolyDP(\n",
    "            contour, 0.01 * cv2.arcLength(contour, True), True)\n",
    "        \n",
    "        # using drawContours() function\n",
    "        cv2.drawContours(img, [contour], 0, (0, 0, 255), 5)\n",
    "    \n",
    "        # finding center point of shape\n",
    "        M = cv2.moments(contour)\n",
    "        if M['m00'] != 0.0:\n",
    "            x = int(M['m10']/M['m00'])\n",
    "            y = int(M['m01']/M['m00'])\n",
    "    \n",
    "        # putting shape name at center of each shape\n",
    "        if len(approx) == 3:\n",
    "            cv2.putText(img, 'Triangle', (x, y),\n",
    "                        cv2.FONT_HERSHEY_SIMPLEX, 0.6, (255, 255, 255), 2)\n",
    "    \n",
    "        elif len(approx) == 4:\n",
    "            cv2.putText(img, 'Quadrilateral', (x, y),\n",
    "                        cv2.FONT_HERSHEY_SIMPLEX, 0.6, (255, 255, 255), 2)\n",
    "    \n",
    "        elif len(approx) == 5:\n",
    "            cv2.putText(img, 'Pentagon', (x, y),\n",
    "                        cv2.FONT_HERSHEY_SIMPLEX, 0.6, (255, 255, 255), 2)\n",
    "    \n",
    "        elif len(approx) == 6:\n",
    "            cv2.putText(img, 'Hexagon', (x, y),\n",
    "                        cv2.FONT_HERSHEY_SIMPLEX, 0.6, (255, 255, 255), 2)\n",
    "    \n",
    "        else:\n",
    "            cv2.putText(img, 'circle', (x, y),\n",
    "                        cv2.FONT_HERSHEY_SIMPLEX, 0.6, (255, 255, 255), 2)\n",
    "    \n",
    "    # displaying the image after drawing contours\n",
    "    cv2.imshow('shapes', img)\n",
    "\n",
    "\n",
    "    if cv2.waitKey(1) & 0xFF == ord('q'):\n",
    "        break\n",
    "  \n",
    "vid.release()\n",
    "cv2.destroyAllWindows()"
   ]
  },
  {
   "cell_type": "code",
   "execution_count": null,
   "id": "4e316686",
   "metadata": {},
   "outputs": [],
   "source": []
  }
 ],
 "metadata": {
  "kernelspec": {
   "display_name": "Python 3",
   "language": "python",
   "name": "python3"
  },
  "language_info": {
   "codemirror_mode": {
    "name": "ipython",
    "version": 3
   },
   "file_extension": ".py",
   "mimetype": "text/x-python",
   "name": "python",
   "nbconvert_exporter": "python",
   "pygments_lexer": "ipython3",
   "version": "3.8.8"
  }
 },
 "nbformat": 4,
 "nbformat_minor": 5
}
